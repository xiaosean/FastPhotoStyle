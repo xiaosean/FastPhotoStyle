{
 "cells": [
  {
   "cell_type": "code",
   "execution_count": 2,
   "metadata": {},
   "outputs": [
    {
     "data": {
      "text/plain": [
       "'\\nCopyright (C) 2018 NVIDIA Corporation.  All rights reserved.\\nLicensed under the CC BY-NC-SA 4.0 license (https://creativecommons.org/licenses/by-nc-sa/4.0/legalcode).\\n'"
      ]
     },
     "execution_count": 2,
     "metadata": {},
     "output_type": "execute_result"
    }
   ],
   "source": [
    "\"\"\"\n",
    "Copyright (C) 2018 NVIDIA Corporation.  All rights reserved.\n",
    "Licensed under the CC BY-NC-SA 4.0 license (https://creativecommons.org/licenses/by-nc-sa/4.0/legalcode).\n",
    "\"\"\"\n",
    "\"\"\"\n",
    "Copyright (C) 2018 NVIDIA Corporation.  All rights reserved.\n",
    "Licensed under the CC BY-NC-SA 4.0 license (https://creativecommons.org/licenses/by-nc-sa/4.0/legalcode).\n",
    "\"\"\""
   ]
  },
  {
   "cell_type": "code",
   "execution_count": 3,
   "metadata": {},
   "outputs": [],
   "source": [
    "from __future__ import print_function\n",
    "import argparse\n",
    "import torch\n",
    "import process_stylization\n",
    "from photo_wct import PhotoWCT\n",
    "from photo_gif import GIFSmoothing"
   ]
  },
  {
   "cell_type": "code",
   "execution_count": 13,
   "metadata": {},
   "outputs": [],
   "source": [
    "from os import path"
   ]
  },
  {
   "cell_type": "code",
   "execution_count": 5,
   "metadata": {},
   "outputs": [],
   "source": [
    "model ='./PhotoWCTModels/photo_wct.pth'\n",
    "content_image_path ='./images/content1.png'\n",
    "content_seg_path =[]\n",
    "style_image_path ='./images/style1.png'\n",
    "style_seg_path = []\n",
    "output_image_path = './results/example1.png'\n",
    "save_intermediate = False\n",
    "fast = True\n",
    "no_post = False\n",
    "cuda = 0\n"
   ]
  },
  {
   "cell_type": "markdown",
   "metadata": {},
   "source": [
    "# setup model"
   ]
  },
  {
   "cell_type": "code",
   "execution_count": 75,
   "metadata": {},
   "outputs": [],
   "source": [
    "p_wct = PhotoWCT()"
   ]
  },
  {
   "cell_type": "code",
   "execution_count": 76,
   "metadata": {},
   "outputs": [],
   "source": [
    "p_wct.load_state_dict(torch.load(model))"
   ]
  },
  {
   "cell_type": "code",
   "execution_count": 77,
   "metadata": {},
   "outputs": [
    {
     "data": {
      "text/plain": [
       "PhotoWCT(\n",
       "  (e1): VGGEncoder(\n",
       "    (conv0): Conv2d(3, 3, kernel_size=(1, 1), stride=(1, 1))\n",
       "    (pad1_1): ReflectionPad2d((1, 1, 1, 1))\n",
       "    (conv1_1): Conv2d(3, 64, kernel_size=(3, 3), stride=(1, 1))\n",
       "    (relu1_1): ReLU(inplace)\n",
       "  )\n",
       "  (d1): VGGDecoder(\n",
       "    (pad1_1): ReflectionPad2d((1, 1, 1, 1))\n",
       "    (conv1_1): Conv2d(64, 3, kernel_size=(3, 3), stride=(1, 1))\n",
       "  )\n",
       "  (e2): VGGEncoder(\n",
       "    (conv0): Conv2d(3, 3, kernel_size=(1, 1), stride=(1, 1))\n",
       "    (pad1_1): ReflectionPad2d((1, 1, 1, 1))\n",
       "    (conv1_1): Conv2d(3, 64, kernel_size=(3, 3), stride=(1, 1))\n",
       "    (relu1_1): ReLU(inplace)\n",
       "    (pad1_2): ReflectionPad2d((1, 1, 1, 1))\n",
       "    (conv1_2): Conv2d(64, 64, kernel_size=(3, 3), stride=(1, 1))\n",
       "    (relu1_2): ReLU(inplace)\n",
       "    (maxpool1): MaxPool2d(kernel_size=2, stride=2, padding=0, dilation=1, ceil_mode=False)\n",
       "    (pad2_1): ReflectionPad2d((1, 1, 1, 1))\n",
       "    (conv2_1): Conv2d(64, 128, kernel_size=(3, 3), stride=(1, 1))\n",
       "    (relu2_1): ReLU(inplace)\n",
       "  )\n",
       "  (d2): VGGDecoder(\n",
       "    (pad2_1): ReflectionPad2d((1, 1, 1, 1))\n",
       "    (conv2_1): Conv2d(128, 64, kernel_size=(3, 3), stride=(1, 1))\n",
       "    (relu2_1): ReLU(inplace)\n",
       "    (unpool1): MaxUnpool2d(kernel_size=(2, 2), stride=(2, 2), padding=(0, 0))\n",
       "    (pad1_2): ReflectionPad2d((1, 1, 1, 1))\n",
       "    (conv1_2): Conv2d(64, 64, kernel_size=(3, 3), stride=(1, 1))\n",
       "    (relu1_2): ReLU(inplace)\n",
       "    (pad1_1): ReflectionPad2d((1, 1, 1, 1))\n",
       "    (conv1_1): Conv2d(64, 3, kernel_size=(3, 3), stride=(1, 1))\n",
       "  )\n",
       "  (e3): VGGEncoder(\n",
       "    (conv0): Conv2d(3, 3, kernel_size=(1, 1), stride=(1, 1))\n",
       "    (pad1_1): ReflectionPad2d((1, 1, 1, 1))\n",
       "    (conv1_1): Conv2d(3, 64, kernel_size=(3, 3), stride=(1, 1))\n",
       "    (relu1_1): ReLU(inplace)\n",
       "    (pad1_2): ReflectionPad2d((1, 1, 1, 1))\n",
       "    (conv1_2): Conv2d(64, 64, kernel_size=(3, 3), stride=(1, 1))\n",
       "    (relu1_2): ReLU(inplace)\n",
       "    (maxpool1): MaxPool2d(kernel_size=2, stride=2, padding=0, dilation=1, ceil_mode=False)\n",
       "    (pad2_1): ReflectionPad2d((1, 1, 1, 1))\n",
       "    (conv2_1): Conv2d(64, 128, kernel_size=(3, 3), stride=(1, 1))\n",
       "    (relu2_1): ReLU(inplace)\n",
       "    (pad2_2): ReflectionPad2d((1, 1, 1, 1))\n",
       "    (conv2_2): Conv2d(128, 128, kernel_size=(3, 3), stride=(1, 1))\n",
       "    (relu2_2): ReLU(inplace)\n",
       "    (maxpool2): MaxPool2d(kernel_size=2, stride=2, padding=0, dilation=1, ceil_mode=False)\n",
       "    (pad3_1): ReflectionPad2d((1, 1, 1, 1))\n",
       "    (conv3_1): Conv2d(128, 256, kernel_size=(3, 3), stride=(1, 1))\n",
       "    (relu3_1): ReLU(inplace)\n",
       "  )\n",
       "  (d3): VGGDecoder(\n",
       "    (pad3_1): ReflectionPad2d((1, 1, 1, 1))\n",
       "    (conv3_1): Conv2d(256, 128, kernel_size=(3, 3), stride=(1, 1))\n",
       "    (relu3_1): ReLU(inplace)\n",
       "    (unpool2): MaxUnpool2d(kernel_size=(2, 2), stride=(2, 2), padding=(0, 0))\n",
       "    (pad2_2): ReflectionPad2d((1, 1, 1, 1))\n",
       "    (conv2_2): Conv2d(128, 128, kernel_size=(3, 3), stride=(1, 1))\n",
       "    (relu2_2): ReLU(inplace)\n",
       "    (pad2_1): ReflectionPad2d((1, 1, 1, 1))\n",
       "    (conv2_1): Conv2d(128, 64, kernel_size=(3, 3), stride=(1, 1))\n",
       "    (relu2_1): ReLU(inplace)\n",
       "    (unpool1): MaxUnpool2d(kernel_size=(2, 2), stride=(2, 2), padding=(0, 0))\n",
       "    (pad1_2): ReflectionPad2d((1, 1, 1, 1))\n",
       "    (conv1_2): Conv2d(64, 64, kernel_size=(3, 3), stride=(1, 1))\n",
       "    (relu1_2): ReLU(inplace)\n",
       "    (pad1_1): ReflectionPad2d((1, 1, 1, 1))\n",
       "    (conv1_1): Conv2d(64, 3, kernel_size=(3, 3), stride=(1, 1))\n",
       "  )\n",
       "  (e4): VGGEncoder(\n",
       "    (conv0): Conv2d(3, 3, kernel_size=(1, 1), stride=(1, 1))\n",
       "    (pad1_1): ReflectionPad2d((1, 1, 1, 1))\n",
       "    (conv1_1): Conv2d(3, 64, kernel_size=(3, 3), stride=(1, 1))\n",
       "    (relu1_1): ReLU(inplace)\n",
       "    (pad1_2): ReflectionPad2d((1, 1, 1, 1))\n",
       "    (conv1_2): Conv2d(64, 64, kernel_size=(3, 3), stride=(1, 1))\n",
       "    (relu1_2): ReLU(inplace)\n",
       "    (maxpool1): MaxPool2d(kernel_size=2, stride=2, padding=0, dilation=1, ceil_mode=False)\n",
       "    (pad2_1): ReflectionPad2d((1, 1, 1, 1))\n",
       "    (conv2_1): Conv2d(64, 128, kernel_size=(3, 3), stride=(1, 1))\n",
       "    (relu2_1): ReLU(inplace)\n",
       "    (pad2_2): ReflectionPad2d((1, 1, 1, 1))\n",
       "    (conv2_2): Conv2d(128, 128, kernel_size=(3, 3), stride=(1, 1))\n",
       "    (relu2_2): ReLU(inplace)\n",
       "    (maxpool2): MaxPool2d(kernel_size=2, stride=2, padding=0, dilation=1, ceil_mode=False)\n",
       "    (pad3_1): ReflectionPad2d((1, 1, 1, 1))\n",
       "    (conv3_1): Conv2d(128, 256, kernel_size=(3, 3), stride=(1, 1))\n",
       "    (relu3_1): ReLU(inplace)\n",
       "    (pad3_2): ReflectionPad2d((1, 1, 1, 1))\n",
       "    (conv3_2): Conv2d(256, 256, kernel_size=(3, 3), stride=(1, 1))\n",
       "    (relu3_2): ReLU(inplace)\n",
       "    (pad3_3): ReflectionPad2d((1, 1, 1, 1))\n",
       "    (conv3_3): Conv2d(256, 256, kernel_size=(3, 3), stride=(1, 1))\n",
       "    (relu3_3): ReLU(inplace)\n",
       "    (pad3_4): ReflectionPad2d((1, 1, 1, 1))\n",
       "    (conv3_4): Conv2d(256, 256, kernel_size=(3, 3), stride=(1, 1))\n",
       "    (relu3_4): ReLU(inplace)\n",
       "    (maxpool3): MaxPool2d(kernel_size=2, stride=2, padding=0, dilation=1, ceil_mode=False)\n",
       "    (pad4_1): ReflectionPad2d((1, 1, 1, 1))\n",
       "    (conv4_1): Conv2d(256, 512, kernel_size=(3, 3), stride=(1, 1))\n",
       "    (relu4_1): ReLU(inplace)\n",
       "  )\n",
       "  (d4): VGGDecoder(\n",
       "    (pad4_1): ReflectionPad2d((1, 1, 1, 1))\n",
       "    (conv4_1): Conv2d(512, 256, kernel_size=(3, 3), stride=(1, 1))\n",
       "    (relu4_1): ReLU(inplace)\n",
       "    (unpool3): MaxUnpool2d(kernel_size=(2, 2), stride=(2, 2), padding=(0, 0))\n",
       "    (pad3_4): ReflectionPad2d((1, 1, 1, 1))\n",
       "    (conv3_4): Conv2d(256, 256, kernel_size=(3, 3), stride=(1, 1))\n",
       "    (relu3_4): ReLU(inplace)\n",
       "    (pad3_3): ReflectionPad2d((1, 1, 1, 1))\n",
       "    (conv3_3): Conv2d(256, 256, kernel_size=(3, 3), stride=(1, 1))\n",
       "    (relu3_3): ReLU(inplace)\n",
       "    (pad3_2): ReflectionPad2d((1, 1, 1, 1))\n",
       "    (conv3_2): Conv2d(256, 256, kernel_size=(3, 3), stride=(1, 1))\n",
       "    (relu3_2): ReLU(inplace)\n",
       "    (pad3_1): ReflectionPad2d((1, 1, 1, 1))\n",
       "    (conv3_1): Conv2d(256, 128, kernel_size=(3, 3), stride=(1, 1))\n",
       "    (relu3_1): ReLU(inplace)\n",
       "    (unpool2): MaxUnpool2d(kernel_size=(2, 2), stride=(2, 2), padding=(0, 0))\n",
       "    (pad2_2): ReflectionPad2d((1, 1, 1, 1))\n",
       "    (conv2_2): Conv2d(128, 128, kernel_size=(3, 3), stride=(1, 1))\n",
       "    (relu2_2): ReLU(inplace)\n",
       "    (pad2_1): ReflectionPad2d((1, 1, 1, 1))\n",
       "    (conv2_1): Conv2d(128, 64, kernel_size=(3, 3), stride=(1, 1))\n",
       "    (relu2_1): ReLU(inplace)\n",
       "    (unpool1): MaxUnpool2d(kernel_size=(2, 2), stride=(2, 2), padding=(0, 0))\n",
       "    (pad1_2): ReflectionPad2d((1, 1, 1, 1))\n",
       "    (conv1_2): Conv2d(64, 64, kernel_size=(3, 3), stride=(1, 1))\n",
       "    (relu1_2): ReLU(inplace)\n",
       "    (pad1_1): ReflectionPad2d((1, 1, 1, 1))\n",
       "    (conv1_1): Conv2d(64, 3, kernel_size=(3, 3), stride=(1, 1))\n",
       "  )\n",
       ")"
      ]
     },
     "execution_count": 77,
     "metadata": {},
     "output_type": "execute_result"
    }
   ],
   "source": [
    "p_wct.cuda(0)"
   ]
  },
  {
   "cell_type": "code",
   "execution_count": 78,
   "metadata": {},
   "outputs": [],
   "source": [
    "p_pro = GIFSmoothing(r=35, eps=0.001)"
   ]
  },
  {
   "cell_type": "markdown",
   "metadata": {},
   "source": [
    "# Load model"
   ]
  },
  {
   "cell_type": "code",
   "execution_count": 101,
   "metadata": {},
   "outputs": [],
   "source": [
    "from photo_smooth import Propagator\n",
    "p_pro = Propagator()"
   ]
  },
  {
   "cell_type": "markdown",
   "metadata": {},
   "source": [
    "#  Load CityScapes dataset"
   ]
  },
  {
   "cell_type": "code",
   "execution_count": 93,
   "metadata": {},
   "outputs": [],
   "source": [
    "def get_Cityscapes_Dataset(root_path, list_path):\n",
    "    img_ids = [i_id.strip() for i_id in open(list_path)]\n",
    "    # for split in [\"train\", \"trainval\", \"val\"]:\n",
    "#     split_set = \"train\"\n",
    "    files = []\n",
    "    for name in img_ids:\n",
    "        img_file = path.join(root_path, \"leftImg8bit/train/%s\" % (name))\n",
    "        files.append({\n",
    "            \"img\": img_file,\n",
    "            \"name\": str(name).replace(\"/\",\"-\")\n",
    "        })\n",
    "    print(files[:5])\n",
    "    return files"
   ]
  },
  {
   "cell_type": "code",
   "execution_count": 94,
   "metadata": {},
   "outputs": [
    {
     "name": "stdout",
     "output_type": "stream",
     "text": [
      "[{'img': '../AdaptSegNet/data/Cityscapes/data/leftImg8bit/train/aachen/aachen_000000_000019_leftImg8bit.png', 'name': 'aachen-aachen_000000_000019_leftImg8bit.png'}, {'img': '../AdaptSegNet/data/Cityscapes/data/leftImg8bit/train/aachen/aachen_000001_000019_leftImg8bit.png', 'name': 'aachen-aachen_000001_000019_leftImg8bit.png'}, {'img': '../AdaptSegNet/data/Cityscapes/data/leftImg8bit/train/aachen/aachen_000002_000019_leftImg8bit.png', 'name': 'aachen-aachen_000002_000019_leftImg8bit.png'}, {'img': '../AdaptSegNet/data/Cityscapes/data/leftImg8bit/train/aachen/aachen_000003_000019_leftImg8bit.png', 'name': 'aachen-aachen_000003_000019_leftImg8bit.png'}, {'img': '../AdaptSegNet/data/Cityscapes/data/leftImg8bit/train/aachen/aachen_000004_000019_leftImg8bit.png', 'name': 'aachen-aachen_000004_000019_leftImg8bit.png'}]\n"
     ]
    }
   ],
   "source": [
    "data_directory =  path.join(\"..\", \"AdaptSegNet\", \"data\", \"Cityscapes\", \"data\")\n",
    "list_path = path.join(\"..\", \"AdaptSegNet\", \"dataset\", \"cityscapes_list\", \"train.txt\")\n",
    "CityScapes_dataset = get_Cityscapes_Dataset(data_directory, list_path)"
   ]
  },
  {
   "cell_type": "code",
   "execution_count": 95,
   "metadata": {},
   "outputs": [],
   "source": [
    "import random"
   ]
  },
  {
   "cell_type": "code",
   "execution_count": 96,
   "metadata": {},
   "outputs": [
    {
     "name": "stdout",
     "output_type": "stream",
     "text": [
      "../AdaptSegNet/data/Cityscapes/data/leftImg8bit/train/hamburg/hamburg_000000_074545_leftImg8bit.png\n",
      "../AdaptSegNet/data/Cityscapes/data/leftImg8bit/train/strasbourg/strasbourg_000001_016253_leftImg8bit.png\n",
      "../AdaptSegNet/data/Cityscapes/data/leftImg8bit/train/strasbourg/strasbourg_000001_015220_leftImg8bit.png\n"
     ]
    }
   ],
   "source": [
    "for _ in range(3):\n",
    "    print(random.choice(CityScapes_dataset)['img'])"
   ]
  },
  {
   "cell_type": "markdown",
   "metadata": {},
   "source": [
    "# Load GTA5 dataset"
   ]
  },
  {
   "cell_type": "code",
   "execution_count": 80,
   "metadata": {},
   "outputs": [],
   "source": [
    "def get_GTA5_Dataset(root_path, list_path):\n",
    "    img_ids = [i_id.strip() for i_id in open(list_path)]\n",
    "    # for split in [\"train\", \"trainval\", \"val\"]:\n",
    "#     split_set = \"train\"\n",
    "    files = []\n",
    "    for name in img_ids:\n",
    "        img_file = path.join(root_path, \"%s\" % (name))\n",
    "        files.append({\n",
    "            \"img\": img_file,\n",
    "            \"name\": name\n",
    "        })\n",
    "    print(files[:5])\n",
    "    return files"
   ]
  },
  {
   "cell_type": "code",
   "execution_count": 81,
   "metadata": {},
   "outputs": [
    {
     "name": "stdout",
     "output_type": "stream",
     "text": [
      "[{'img': '../AdaptSegNet/data/GTA5/images/00001.png', 'name': '00001.png'}, {'img': '../AdaptSegNet/data/GTA5/images/00002.png', 'name': '00002.png'}, {'img': '../AdaptSegNet/data/GTA5/images/00003.png', 'name': '00003.png'}, {'img': '../AdaptSegNet/data/GTA5/images/00004.png', 'name': '00004.png'}, {'img': '../AdaptSegNet/data/GTA5/images/00005.png', 'name': '00005.png'}]\n"
     ]
    }
   ],
   "source": [
    "data_directory =  path.join(\"..\", \"AdaptSegNet\", \"data\", \"GTA5\", \"images\")\n",
    "list_path = path.join(\"..\", \"AdaptSegNet\", \"dataset\", \"gta5_list\", \"train.txt\")\n",
    "GTA5_dataset = get_GTA5_Dataset(data_directory, list_path)"
   ]
  },
  {
   "cell_type": "code",
   "execution_count": null,
   "metadata": {
    "scrolled": true
   },
   "outputs": [
    {
     "name": "stdout",
     "output_type": "stream",
     "text": [
      "output_image_path = ../transfer-test/00001.png\n",
      "Resize image: (1914,1052)->(960,527)\n",
      "Resize image: (2048,1024)->(960,480)\n",
      "Elapsed time in stylization: 0.393616\n",
      "Elapsed time in propagation: 16.237004\n",
      "Elapsed time in post processing: 0.366003\n",
      "output_image_path = ../transfer-test/00002.png\n",
      "Resize image: (1914,1052)->(960,527)\n",
      "Resize image: (2048,1024)->(960,480)\n",
      "Elapsed time in stylization: 0.359328\n",
      "Elapsed time in propagation: 16.421889\n",
      "Elapsed time in post processing: 0.350520\n",
      "output_image_path = ../transfer-test/00003.png\n",
      "Resize image: (1914,1052)->(960,527)\n",
      "Resize image: (2048,1024)->(960,480)\n",
      "Elapsed time in stylization: 0.355238\n",
      "Elapsed time in propagation: 16.968910\n",
      "Elapsed time in post processing: 0.347800\n",
      "output_image_path = ../transfer-test/00004.png\n",
      "Resize image: (1914,1052)->(960,527)\n",
      "Resize image: (2048,1024)->(960,480)\n",
      "Elapsed time in stylization: 0.399889\n",
      "Elapsed time in propagation: 16.011892\n",
      "Elapsed time in post processing: 0.361251\n",
      "output_image_path = ../transfer-test/00005.png\n",
      "Resize image: (1914,1052)->(960,527)\n",
      "Resize image: (2048,1024)->(960,480)\n",
      "Elapsed time in stylization: 0.358817\n",
      "Elapsed time in propagation: 17.100484\n",
      "Elapsed time in post processing: 0.353554\n",
      "output_image_path = ../transfer-test/00006.png\n",
      "Resize image: (1914,1052)->(960,527)\n",
      "Resize image: (2048,1024)->(960,480)\n",
      "Elapsed time in stylization: 0.381418\n",
      "Elapsed time in propagation: 15.555038\n",
      "Elapsed time in post processing: 0.336394\n",
      "output_image_path = ../transfer-test/00007.png\n",
      "Resize image: (1914,1052)->(960,527)\n",
      "Resize image: (2048,1024)->(960,480)\n",
      "Elapsed time in stylization: 0.358410\n",
      "Elapsed time in propagation: 17.328797\n",
      "Elapsed time in post processing: 0.358688\n",
      "output_image_path = ../transfer-test/00008.png\n",
      "Resize image: (1914,1052)->(960,527)\n",
      "Resize image: (2048,1024)->(960,480)\n",
      "Elapsed time in stylization: 0.359237\n",
      "Elapsed time in propagation: 15.226781\n",
      "Elapsed time in post processing: 0.336758\n",
      "output_image_path = ../transfer-test/00009.png\n",
      "Resize image: (1914,1052)->(960,527)\n",
      "Resize image: (2048,1024)->(960,480)\n",
      "Elapsed time in stylization: 0.359365\n",
      "Elapsed time in propagation: 15.548702\n",
      "Elapsed time in post processing: 0.344724\n",
      "output_image_path = ../transfer-test/00010.png\n",
      "Resize image: (1914,1052)->(960,527)\n",
      "Resize image: (2048,1024)->(960,480)\n",
      "Elapsed time in stylization: 0.476388\n",
      "Elapsed time in propagation: 17.858608\n",
      "Elapsed time in post processing: 0.395666\n",
      "output_image_path = ../transfer-test/00011.png\n",
      "Resize image: (1914,1052)->(960,527)\n",
      "Resize image: (2048,1024)->(960,480)\n",
      "Elapsed time in stylization: 0.375597\n",
      "Elapsed time in propagation: 19.112267\n",
      "Elapsed time in post processing: 0.335569\n",
      "output_image_path = ../transfer-test/00012.png\n",
      "Resize image: (1914,1052)->(960,527)\n",
      "Resize image: (2048,1024)->(960,480)\n",
      "Elapsed time in stylization: 0.400266\n",
      "Elapsed time in propagation: 15.221535\n",
      "Elapsed time in post processing: 0.333349\n",
      "output_image_path = ../transfer-test/00013.png\n",
      "Resize image: (1914,1052)->(960,527)\n",
      "Resize image: (2048,1024)->(960,480)\n",
      "Elapsed time in stylization: 0.359958\n",
      "Elapsed time in propagation: 15.842312\n",
      "Elapsed time in post processing: 0.378285\n",
      "output_image_path = ../transfer-test/00014.png\n",
      "Resize image: (1914,1052)->(960,527)\n",
      "Resize image: (2048,1024)->(960,480)\n",
      "Elapsed time in stylization: 0.366993\n",
      "Elapsed time in propagation: 15.248404\n",
      "Elapsed time in post processing: 0.335732\n",
      "output_image_path = ../transfer-test/00015.png\n",
      "Resize image: (1914,1052)->(960,527)\n",
      "Resize image: (2048,1024)->(960,480)\n",
      "Elapsed time in stylization: 0.356685\n",
      "Elapsed time in propagation: 15.068196\n",
      "Elapsed time in post processing: 0.346010\n",
      "output_image_path = ../transfer-test/00016.png\n",
      "Resize image: (1914,1052)->(960,527)\n",
      "Resize image: (2048,1024)->(960,480)\n",
      "Elapsed time in stylization: 0.474829\n",
      "Elapsed time in propagation: 15.146660\n",
      "Elapsed time in post processing: 0.355829\n",
      "output_image_path = ../transfer-test/00017.png\n",
      "Resize image: (1914,1052)->(960,527)\n",
      "Resize image: (2048,1024)->(960,480)\n",
      "Elapsed time in stylization: 0.361873\n",
      "Elapsed time in propagation: 16.016708\n",
      "Elapsed time in post processing: 0.336297\n",
      "output_image_path = ../transfer-test/00018.png\n",
      "Resize image: (1914,1052)->(960,527)\n",
      "Resize image: (2048,1024)->(960,480)\n",
      "Elapsed time in stylization: 0.410515\n",
      "Elapsed time in propagation: 15.993217\n",
      "Elapsed time in post processing: 0.335211\n",
      "output_image_path = ../transfer-test/00019.png\n",
      "Resize image: (1914,1052)->(960,527)\n",
      "Resize image: (2048,1024)->(960,480)\n",
      "Elapsed time in stylization: 0.368565\n",
      "Elapsed time in propagation: 14.901839\n",
      "Elapsed time in post processing: 0.352029\n",
      "output_image_path = ../transfer-test/00020.png\n",
      "Resize image: (1914,1052)->(960,527)\n",
      "Resize image: (2048,1024)->(960,480)\n",
      "Elapsed time in stylization: 0.362560\n",
      "Elapsed time in propagation: 16.612836\n",
      "Elapsed time in post processing: 0.355900\n",
      "output_image_path = ../transfer-test/00021.png\n",
      "Resize image: (1914,1052)->(960,527)\n",
      "Resize image: (2048,1024)->(960,480)\n",
      "Elapsed time in stylization: 0.435660\n",
      "Elapsed time in propagation: 16.298443\n",
      "Elapsed time in post processing: 0.363744\n",
      "output_image_path = ../transfer-test/00022.png\n",
      "Resize image: (1914,1052)->(960,527)\n",
      "Resize image: (2048,1024)->(960,480)\n",
      "Elapsed time in stylization: 0.364060\n",
      "Elapsed time in propagation: 15.835492\n",
      "Elapsed time in post processing: 0.338651\n",
      "output_image_path = ../transfer-test/00023.png\n",
      "Resize image: (1914,1052)->(960,527)\n",
      "Resize image: (2048,1024)->(960,480)\n",
      "Elapsed time in stylization: 0.362230\n",
      "Elapsed time in propagation: 15.683148\n",
      "Elapsed time in post processing: 0.337100\n",
      "output_image_path = ../transfer-test/00024.png\n",
      "Resize image: (1914,1052)->(960,527)\n",
      "Resize image: (2048,1024)->(960,480)\n",
      "Elapsed time in stylization: 0.365736\n",
      "Elapsed time in propagation: 15.004741\n",
      "Elapsed time in post processing: 0.362893\n",
      "output_image_path = ../transfer-test/00025.png\n",
      "Resize image: (1914,1052)->(960,527)\n",
      "Resize image: (2048,1024)->(960,480)\n",
      "Elapsed time in stylization: 0.364369\n",
      "Elapsed time in propagation: 14.996973\n",
      "Elapsed time in post processing: 0.336342\n",
      "output_image_path = ../transfer-test/00026.png\n",
      "Resize image: (1914,1052)->(960,527)\n",
      "Resize image: (2048,1024)->(960,480)\n",
      "Elapsed time in stylization: 0.356196\n",
      "Elapsed time in propagation: 15.211127\n",
      "Elapsed time in post processing: 0.337947\n",
      "output_image_path = ../transfer-test/00027.png\n",
      "Resize image: (1914,1052)->(960,527)\n",
      "Resize image: (2048,1024)->(960,480)\n",
      "Elapsed time in stylization: 0.369319\n",
      "Elapsed time in propagation: 15.009013\n",
      "Elapsed time in post processing: 0.379138\n",
      "output_image_path = ../transfer-test/00028.png\n",
      "Resize image: (1914,1052)->(960,527)\n",
      "Resize image: (2048,1024)->(960,480)\n",
      "Elapsed time in stylization: 0.371058\n",
      "Elapsed time in propagation: 15.137737\n",
      "Elapsed time in post processing: 0.337939\n",
      "output_image_path = ../transfer-test/00029.png\n",
      "Resize image: (1914,1052)->(960,527)\n",
      "Resize image: (2048,1024)->(960,480)\n",
      "Elapsed time in stylization: 0.360674\n",
      "Elapsed time in propagation: 14.805189\n",
      "Elapsed time in post processing: 0.335896\n",
      "output_image_path = ../transfer-test/00030.png\n",
      "Resize image: (1914,1052)->(960,527)\n",
      "Resize image: (2048,1024)->(960,480)\n",
      "Elapsed time in stylization: 0.367118\n",
      "Elapsed time in propagation: 15.187932\n",
      "Elapsed time in post processing: 0.360162\n",
      "output_image_path = ../transfer-test/00031.png\n",
      "Resize image: (1914,1052)->(960,527)\n",
      "Resize image: (2048,1024)->(960,480)\n",
      "Elapsed time in stylization: 0.361252\n",
      "Elapsed time in propagation: 15.137717\n",
      "Elapsed time in post processing: 0.336389\n",
      "output_image_path = ../transfer-test/00032.png\n",
      "Resize image: (1914,1052)->(960,527)\n",
      "Resize image: (2048,1024)->(960,480)\n",
      "Elapsed time in stylization: 0.357135\n",
      "Elapsed time in propagation: 15.383240\n",
      "Elapsed time in post processing: 0.350814\n",
      "output_image_path = ../transfer-test/00033.png\n",
      "Resize image: (1914,1052)->(960,527)\n",
      "Resize image: (2048,1024)->(960,480)\n",
      "Elapsed time in stylization: 0.362515\n",
      "Elapsed time in propagation: 14.956883\n",
      "Elapsed time in post processing: 0.351655\n",
      "output_image_path = ../transfer-test/00034.png\n",
      "Resize image: (1914,1052)->(960,527)\n",
      "Resize image: (2048,1024)->(960,480)\n",
      "Elapsed time in stylization: 0.357403\n",
      "Elapsed time in propagation: 15.041856\n",
      "Elapsed time in post processing: 0.335989\n",
      "output_image_path = ../transfer-test/00035.png\n"
     ]
    },
    {
     "name": "stdout",
     "output_type": "stream",
     "text": [
      "Resize image: (1914,1052)->(960,527)\n",
      "Resize image: (2048,1024)->(960,480)\n",
      "Elapsed time in stylization: 0.364099\n",
      "Elapsed time in propagation: 14.913600\n",
      "Elapsed time in post processing: 0.335745\n",
      "output_image_path = ../transfer-test/00036.png\n",
      "Resize image: (1914,1052)->(960,527)\n",
      "Resize image: (2048,1024)->(960,480)\n",
      "Elapsed time in stylization: 0.361228\n",
      "Elapsed time in propagation: 15.489499\n",
      "Elapsed time in post processing: 0.359270\n",
      "output_image_path = ../transfer-test/00037.png\n",
      "Resize image: (1914,1052)->(960,527)\n",
      "Resize image: (2048,1024)->(960,480)\n",
      "Elapsed time in stylization: 0.362456\n",
      "Elapsed time in propagation: 15.410511\n",
      "Elapsed time in post processing: 0.334326\n",
      "output_image_path = ../transfer-test/00038.png\n",
      "Resize image: (1914,1052)->(960,527)\n",
      "Resize image: (2048,1024)->(960,480)\n",
      "Elapsed time in stylization: 0.360155\n",
      "Elapsed time in propagation: 14.810068\n",
      "Elapsed time in post processing: 0.334479\n",
      "output_image_path = ../transfer-test/00039.png\n",
      "Resize image: (1914,1052)->(960,527)\n",
      "Resize image: (2048,1024)->(960,480)\n",
      "Elapsed time in stylization: 0.356723\n",
      "Elapsed time in propagation: 14.684234\n",
      "Elapsed time in post processing: 0.353146\n",
      "output_image_path = ../transfer-test/00040.png\n",
      "Resize image: (1914,1052)->(960,527)\n",
      "Resize image: (2048,1024)->(960,480)\n",
      "Elapsed time in stylization: 0.362685\n",
      "Elapsed time in propagation: 14.694160\n",
      "Elapsed time in post processing: 0.333925\n",
      "output_image_path = ../transfer-test/00041.png\n",
      "Resize image: (1914,1052)->(960,527)\n",
      "Resize image: (2048,1024)->(960,480)\n",
      "Elapsed time in stylization: 0.362598\n",
      "Elapsed time in propagation: 14.664455\n",
      "Elapsed time in post processing: 0.335263\n",
      "output_image_path = ../transfer-test/00042.png\n",
      "Resize image: (1914,1052)->(960,527)\n",
      "Resize image: (2048,1024)->(960,480)\n",
      "Elapsed time in stylization: 0.374625\n",
      "Elapsed time in propagation: 14.811848\n",
      "Elapsed time in post processing: 0.356031\n",
      "output_image_path = ../transfer-test/00043.png\n",
      "Resize image: (1914,1052)->(960,527)\n",
      "Resize image: (2048,1024)->(960,480)\n",
      "Elapsed time in stylization: 0.369076\n",
      "Elapsed time in propagation: 14.806153\n",
      "Elapsed time in post processing: 0.334210\n",
      "output_image_path = ../transfer-test/00044.png\n",
      "Resize image: (1914,1052)->(960,527)\n",
      "Resize image: (2048,1024)->(960,480)\n",
      "Elapsed time in stylization: 0.358574\n",
      "Elapsed time in propagation: 14.749645\n",
      "Elapsed time in post processing: 0.334490\n",
      "output_image_path = ../transfer-test/00045.png\n",
      "Resize image: (1914,1052)->(960,527)\n",
      "Resize image: (2048,1024)->(960,480)\n",
      "Elapsed time in stylization: 0.355324\n",
      "Elapsed time in propagation: 15.219652\n",
      "Elapsed time in post processing: 0.360644\n",
      "output_image_path = ../transfer-test/00046.png\n",
      "Resize image: (1914,1052)->(960,527)\n",
      "Resize image: (2048,1024)->(960,480)\n",
      "Elapsed time in stylization: 0.379303\n"
     ]
    }
   ],
   "source": [
    "output_image_root = path.join(\"..\", \"transfer-test\")\n",
    "for index, item in enumerate(GTA5_dataset):\n",
    "#     transfer GTA5 to cityscapes\n",
    "#     for _ in range(3):\n",
    "    style_image_path = random.choice(CityScapes_dataset)['img']\n",
    "    image_path = item['img']\n",
    "    output_image_path = path.join(output_image_root, item['name'])\n",
    "    print(\"output_image_path =\", output_image_path)\n",
    "    \n",
    "    process_stylization.stylization(\n",
    "        stylization_module=p_wct,\n",
    "        smoothing_module=p_pro,\n",
    "        content_image_path=image_path,\n",
    "        style_image_path=style_image_path,\n",
    "        content_seg_path=[],\n",
    "        style_seg_path=[],\n",
    "        output_image_path=output_image_path,\n",
    "        cuda=1,\n",
    "        save_intermediate=False,\n",
    "        no_post=False\n",
    "    )"
   ]
  },
  {
   "cell_type": "code",
   "execution_count": null,
   "metadata": {},
   "outputs": [],
   "source": []
  },
  {
   "cell_type": "code",
   "execution_count": 16,
   "metadata": {},
   "outputs": [
    {
     "name": "stdout",
     "output_type": "stream",
     "text": [
      "../AdaptSegNet/data/Cityscapes/data\n"
     ]
    },
    {
     "ename": "IsADirectoryError",
     "evalue": "[Errno 21] Is a directory: '../AdaptSegNet/data/Cityscapes/data'",
     "output_type": "error",
     "traceback": [
      "\u001b[0;31m---------------------------------------------------------------------------\u001b[0m",
      "\u001b[0;31mIsADirectoryError\u001b[0m                         Traceback (most recent call last)",
      "\u001b[0;32m<ipython-input-16-b0fc2e96b4c8>\u001b[0m in \u001b[0;36m<module>\u001b[0;34m()\u001b[0m\n\u001b[1;32m      2\u001b[0m \u001b[0mprint\u001b[0m\u001b[0;34m(\u001b[0m\u001b[0mcity_dataset_path\u001b[0m\u001b[0;34m)\u001b[0m\u001b[0;34m\u001b[0m\u001b[0m\n\u001b[1;32m      3\u001b[0m \u001b[0mlist_path\u001b[0m \u001b[0;34m=\u001b[0m \u001b[0mcity_dataset_path\u001b[0m\u001b[0;34m\u001b[0m\u001b[0m\n\u001b[0;32m----> 4\u001b[0;31m \u001b[0mimg_ids\u001b[0m \u001b[0;34m=\u001b[0m \u001b[0;34m[\u001b[0m\u001b[0mi_id\u001b[0m\u001b[0;34m.\u001b[0m\u001b[0mstrip\u001b[0m\u001b[0;34m(\u001b[0m\u001b[0;34m)\u001b[0m \u001b[0;32mfor\u001b[0m \u001b[0mi_id\u001b[0m \u001b[0;32min\u001b[0m \u001b[0mopen\u001b[0m\u001b[0;34m(\u001b[0m\u001b[0mlist_path\u001b[0m\u001b[0;34m)\u001b[0m\u001b[0;34m]\u001b[0m\u001b[0;34m\u001b[0m\u001b[0m\n\u001b[0m\u001b[1;32m      5\u001b[0m \u001b[0;34m\u001b[0m\u001b[0m\n\u001b[1;32m      6\u001b[0m \u001b[0mprint\u001b[0m\u001b[0;34m(\u001b[0m\u001b[0mimg_ids\u001b[0m\u001b[0;34m)\u001b[0m\u001b[0;34m\u001b[0m\u001b[0m\n",
      "\u001b[0;31mIsADirectoryError\u001b[0m: [Errno 21] Is a directory: '../AdaptSegNet/data/Cityscapes/data'"
     ]
    }
   ],
   "source": [
    "city_dataset_path = path.join(\"..\", \"AdaptSegNet\", \"data\", \"Cityscapes\", \"data\")\n",
    "print(city_dataset_path)\n",
    "list_path = city_dataset_path \n",
    "img_ids = [i_id.strip() for i_id in open(list_path)]\n",
    "\n",
    "print(img_ids)"
   ]
  },
  {
   "cell_type": "code",
   "execution_count": null,
   "metadata": {},
   "outputs": [],
   "source": []
  }
 ],
 "metadata": {
  "kernelspec": {
   "display_name": "Python 3",
   "language": "python",
   "name": "python3"
  },
  "language_info": {
   "codemirror_mode": {
    "name": "ipython",
    "version": 3
   },
   "file_extension": ".py",
   "mimetype": "text/x-python",
   "name": "python",
   "nbconvert_exporter": "python",
   "pygments_lexer": "ipython3",
   "version": "3.6.6"
  }
 },
 "nbformat": 4,
 "nbformat_minor": 2
}
